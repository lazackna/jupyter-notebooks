{
 "cells": [
  {
   "cell_type": "code",
   "execution_count": 51,
   "id": "c402f410",
   "metadata": {},
   "outputs": [],
   "source": [
    "#import panda to insert a dataset.\n",
    "import pandas as pd\n",
    "%matplotlib inline\n",
    "import matplotlib.pyplot as plt"
   ]
  },
  {
   "cell_type": "code",
   "execution_count": 52,
   "id": "b2ab03aa",
   "metadata": {},
   "outputs": [],
   "source": [
    "#read a dataset.\n",
    "df = pd.read_csv('../data/test.csv')"
   ]
  },
  {
   "cell_type": "code",
   "execution_count": 53,
   "id": "9d38f829",
   "metadata": {},
   "outputs": [],
   "source": [
    "#read the amount of values on the x axis.\n",
    "X = df[['x']].values\n",
    "#check if there is a second axis.\n",
    "y_true = df['y'].values"
   ]
  },
  {
   "cell_type": "code",
   "execution_count": 54,
   "id": "5604d4e9",
   "metadata": {},
   "outputs": [],
   "source": [
    "from tensorflow.keras.models import Sequential\n",
    "from tensorflow.keras.layers import Dense\n",
    "from tensorflow.keras.optimizers import Adam, SGD"
   ]
  },
  {
   "cell_type": "code",
   "execution_count": 55,
   "id": "758e601a",
   "metadata": {},
   "outputs": [],
   "source": [
    "#create a sequential model\n",
    "model = Sequential()"
   ]
  },
  {
   "cell_type": "code",
   "execution_count": 56,
   "id": "d2b16c60",
   "metadata": {},
   "outputs": [],
   "source": [
    "#Add a dense model.\n",
    "model.add(Dense(1, input_shape=(1,)))"
   ]
  },
  {
   "cell_type": "code",
   "execution_count": 57,
   "id": "2cad0321",
   "metadata": {},
   "outputs": [
    {
     "name": "stdout",
     "output_type": "stream",
     "text": [
      "Model: \"sequential_4\"\n",
      "_________________________________________________________________\n",
      "Layer (type)                 Output Shape              Param #   \n",
      "=================================================================\n",
      "dense_4 (Dense)              (None, 1)                 2         \n",
      "=================================================================\n",
      "Total params: 2\n",
      "Trainable params: 2\n",
      "Non-trainable params: 0\n",
      "_________________________________________________________________\n"
     ]
    }
   ],
   "source": [
    "#print the models summary\n",
    "model.summary()"
   ]
  },
  {
   "cell_type": "code",
   "execution_count": 58,
   "id": "faf4f5d9",
   "metadata": {},
   "outputs": [],
   "source": [
    "#use the keras adam algorithm.\n",
    "model.compile(Adam(learning_rate=0.8), 'mean_squared_error')"
   ]
  },
  {
   "cell_type": "code",
   "execution_count": 59,
   "id": "645c22fe",
   "metadata": {},
   "outputs": [
    {
     "name": "stdout",
     "output_type": "stream",
     "text": [
      "Epoch 1/40\n",
      "10/10 [==============================] - 1s 3ms/step - loss: 840.5184\n",
      "Epoch 2/40\n",
      "10/10 [==============================] - 0s 3ms/step - loss: 212.7038\n",
      "Epoch 3/40\n",
      "10/10 [==============================] - 0s 4ms/step - loss: 120.8389\n",
      "Epoch 4/40\n",
      "10/10 [==============================] - 0s 4ms/step - loss: 34.0710\n",
      "Epoch 5/40\n",
      "10/10 [==============================] - 0s 3ms/step - loss: 20.6301\n",
      "Epoch 6/40\n",
      "10/10 [==============================] - 0s 4ms/step - loss: 11.8404\n",
      "Epoch 7/40\n",
      "10/10 [==============================] - 0s 3ms/step - loss: 9.8316\n",
      "Epoch 8/40\n",
      "10/10 [==============================] - 0s 3ms/step - loss: 9.3116\n",
      "Epoch 9/40\n",
      "10/10 [==============================] - 0s 3ms/step - loss: 10.1286\n",
      "Epoch 10/40\n",
      "10/10 [==============================] - 0s 4ms/step - loss: 10.8761\n",
      "Epoch 11/40\n",
      "10/10 [==============================] - 0s 3ms/step - loss: 9.9915\n",
      "Epoch 12/40\n",
      "10/10 [==============================] - 0s 3ms/step - loss: 9.5593\n",
      "Epoch 13/40\n",
      "10/10 [==============================] - 0s 3ms/step - loss: 9.4236\n",
      "Epoch 14/40\n",
      "10/10 [==============================] - 0s 3ms/step - loss: 10.9356\n",
      "Epoch 15/40\n",
      "10/10 [==============================] - 0s 4ms/step - loss: 9.9291\n",
      "Epoch 16/40\n",
      "10/10 [==============================] - 0s 3ms/step - loss: 9.5960\n",
      "Epoch 17/40\n",
      "10/10 [==============================] - 0s 3ms/step - loss: 9.6147\n",
      "Epoch 18/40\n",
      "10/10 [==============================] - 0s 3ms/step - loss: 10.8993\n",
      "Epoch 19/40\n",
      "10/10 [==============================] - 0s 3ms/step - loss: 10.2649\n",
      "Epoch 20/40\n",
      "10/10 [==============================] - 0s 3ms/step - loss: 9.5073\n",
      "Epoch 21/40\n",
      "10/10 [==============================] - 0s 4ms/step - loss: 10.9629\n",
      "Epoch 22/40\n",
      "10/10 [==============================] - 0s 3ms/step - loss: 9.7043\n",
      "Epoch 23/40\n",
      "10/10 [==============================] - 0s 3ms/step - loss: 9.4129\n",
      "Epoch 24/40\n",
      "10/10 [==============================] - 0s 2ms/step - loss: 10.5843\n",
      "Epoch 25/40\n",
      "10/10 [==============================] - 0s 2ms/step - loss: 10.7516\n",
      "Epoch 26/40\n",
      "10/10 [==============================] - 0s 2ms/step - loss: 10.2695\n",
      "Epoch 27/40\n",
      "10/10 [==============================] - 0s 2ms/step - loss: 11.7570\n",
      "Epoch 28/40\n",
      "10/10 [==============================] - 0s 2ms/step - loss: 9.4729\n",
      "Epoch 29/40\n",
      "10/10 [==============================] - 0s 2ms/step - loss: 12.1166\n",
      "Epoch 30/40\n",
      "10/10 [==============================] - 0s 2ms/step - loss: 10.7794\n",
      "Epoch 31/40\n",
      "10/10 [==============================] - 0s 2ms/step - loss: 9.8964\n",
      "Epoch 32/40\n",
      "10/10 [==============================] - 0s 2ms/step - loss: 12.0905\n",
      "Epoch 33/40\n",
      "10/10 [==============================] - 0s 2ms/step - loss: 9.4862\n",
      "Epoch 34/40\n",
      "10/10 [==============================] - 0s 2ms/step - loss: 9.5816\n",
      "Epoch 35/40\n",
      "10/10 [==============================] - 0s 3ms/step - loss: 11.5355\n",
      "Epoch 36/40\n",
      "10/10 [==============================] - 0s 2ms/step - loss: 10.8360\n",
      "Epoch 37/40\n",
      "10/10 [==============================] - 0s 2ms/step - loss: 10.9466\n",
      "Epoch 38/40\n",
      "10/10 [==============================] - 0s 2ms/step - loss: 10.6678\n",
      "Epoch 39/40\n",
      "10/10 [==============================] - 0s 2ms/step - loss: 13.6685\n",
      "Epoch 40/40\n",
      "10/10 [==============================] - 0s 2ms/step - loss: 10.4628\n"
     ]
    },
    {
     "data": {
      "text/plain": [
       "<tensorflow.python.keras.callbacks.History at 0x1ef9b6e9b08>"
      ]
     },
     "execution_count": 59,
     "metadata": {},
     "output_type": "execute_result"
    }
   ],
   "source": [
    "#try to fit the data in the model.\n",
    "model.fit(X, y_true, epochs=40)"
   ]
  },
  {
   "cell_type": "code",
   "execution_count": 60,
   "id": "a0cc85df",
   "metadata": {},
   "outputs": [],
   "source": [
    "#predict the model.\n",
    "y_pred = model.predict(X)"
   ]
  },
  {
   "cell_type": "code",
   "execution_count": 61,
   "id": "31e837b7",
   "metadata": {},
   "outputs": [
    {
     "data": {
      "text/plain": [
       "[<matplotlib.lines.Line2D at 0x1ef9b668a88>]"
      ]
     },
     "execution_count": 61,
     "metadata": {},
     "output_type": "execute_result"
    },
    {
     "data": {
      "image/png": "[encoded data removed]",
      "text/plain": [
       "<Figure size 432x288 with 1 Axes>"
      ]
     },
     "metadata": {
      "needs_background": "light"
     },
     "output_type": "display_data"
    }
   ],
   "source": [
    "#plot the model\n",
    "df.plot(kind='scatter',\n",
    "        x='x',\n",
    "        y='y',\n",
    "        title='Weight and Height in adults')\n",
    "plt.plot(X, y_pred, color='red')"
   ]
  },
  {
   "cell_type": "code",
   "execution_count": 62,
   "id": "c2dc951d",
   "metadata": {},
   "outputs": [],
   "source": [
    "#Get the weigths that exits in the model.\n",
    "W, B = model.get_weights()"
   ]
  },
  {
   "cell_type": "code",
   "execution_count": 63,
   "id": "a665783d",
   "metadata": {},
   "outputs": [
    {
     "data": {
      "text/plain": [
       "array([[0.99063087]], dtype=float32)"
      ]
     },
     "execution_count": 63,
     "metadata": {},
     "output_type": "execute_result"
    }
   ],
   "source": [
    "#Display W.\n",
    "W"
   ]
  },
  {
   "cell_type": "code",
   "execution_count": 64,
   "id": "3caa2c98",
   "metadata": {},
   "outputs": [
    {
     "data": {
      "text/plain": [
       "array([-0.45651585], dtype=float32)"
      ]
     },
     "execution_count": 64,
     "metadata": {},
     "output_type": "execute_result"
    }
   ],
   "source": [
    "#Display B\n",
    "B"
   ]
  }
 ],
 "metadata": {
  "kernelspec": {
   "display_name": "Python 3 (ipykernel)",
   "language": "python",
   "name": "python3"
  },
  "language_info": {
   "codemirror_mode": {
    "name": "ipython",
    "version": 3
   },
   "file_extension": ".py",
   "mimetype": "text/x-python",
   "name": "python",
   "nbconvert_exporter": "python",
   "pygments_lexer": "ipython3",
   "version": "3.7.13"
  }
 },
 "nbformat": 4,
 "nbformat_minor": 5
}
